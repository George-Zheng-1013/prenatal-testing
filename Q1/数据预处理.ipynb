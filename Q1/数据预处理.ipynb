{
 "cells": [
  {
   "cell_type": "markdown",
   "id": "d71121a2",
   "metadata": {},
   "source": [
    "# 时间与孕周数据处理"
   ]
  },
  {
   "cell_type": "code",
   "execution_count": 101,
   "id": "9f4b9274",
   "metadata": {},
   "outputs": [],
   "source": [
    "import pandas as pd\n",
    "import numpy as np\n",
    "import matplotlib.pyplot as plt"
   ]
  },
  {
   "cell_type": "code",
   "execution_count": 102,
   "id": "3daf7b0f",
   "metadata": {},
   "outputs": [
    {
     "data": {
      "application/vnd.microsoft.datawrangler.viewer.v0+json": {
       "columns": [
        {
         "name": "index",
         "rawType": "int64",
         "type": "integer"
        },
        {
         "name": "序号",
         "rawType": "int64",
         "type": "integer"
        },
        {
         "name": "孕妇代码",
         "rawType": "object",
         "type": "string"
        },
        {
         "name": "年龄",
         "rawType": "int64",
         "type": "integer"
        },
        {
         "name": "身高",
         "rawType": "float64",
         "type": "float"
        },
        {
         "name": "体重",
         "rawType": "float64",
         "type": "float"
        },
        {
         "name": "末次月经",
         "rawType": "object",
         "type": "string"
        },
        {
         "name": "IVF妊娠",
         "rawType": "object",
         "type": "string"
        },
        {
         "name": "检测日期",
         "rawType": "int64",
         "type": "integer"
        },
        {
         "name": "检测抽血次数",
         "rawType": "int64",
         "type": "integer"
        },
        {
         "name": "检测孕周",
         "rawType": "object",
         "type": "string"
        },
        {
         "name": "孕妇BMI",
         "rawType": "float64",
         "type": "float"
        },
        {
         "name": "原始读段数",
         "rawType": "int64",
         "type": "integer"
        },
        {
         "name": "在参考基因组上比对的比例",
         "rawType": "float64",
         "type": "float"
        },
        {
         "name": "重复读段的比例",
         "rawType": "float64",
         "type": "float"
        },
        {
         "name": "唯一比对的读段数  ",
         "rawType": "int64",
         "type": "integer"
        },
        {
         "name": "GC含量",
         "rawType": "float64",
         "type": "float"
        },
        {
         "name": "13号染色体的Z值",
         "rawType": "float64",
         "type": "float"
        },
        {
         "name": "18号染色体的Z值",
         "rawType": "float64",
         "type": "float"
        },
        {
         "name": "21号染色体的Z值",
         "rawType": "float64",
         "type": "float"
        },
        {
         "name": "X染色体的Z值",
         "rawType": "float64",
         "type": "float"
        },
        {
         "name": "Y染色体的Z值",
         "rawType": "float64",
         "type": "float"
        },
        {
         "name": "Y染色体浓度",
         "rawType": "float64",
         "type": "float"
        },
        {
         "name": "X染色体浓度",
         "rawType": "float64",
         "type": "float"
        },
        {
         "name": "13号染色体的GC含量",
         "rawType": "float64",
         "type": "float"
        },
        {
         "name": "18号染色体的GC含量",
         "rawType": "float64",
         "type": "float"
        },
        {
         "name": "21号染色体的GC含量",
         "rawType": "float64",
         "type": "float"
        },
        {
         "name": "被过滤掉读段数的比例",
         "rawType": "float64",
         "type": "float"
        },
        {
         "name": "染色体的非整倍体",
         "rawType": "object",
         "type": "unknown"
        },
        {
         "name": "怀孕次数",
         "rawType": "object",
         "type": "string"
        },
        {
         "name": "生产次数",
         "rawType": "int64",
         "type": "integer"
        },
        {
         "name": "胎儿是否健康",
         "rawType": "object",
         "type": "string"
        }
       ],
       "ref": "dd97e266-d2c2-4f02-8313-05c7d1a551f8",
       "rows": [
        [
         "0",
         "1",
         "A001",
         "31",
         "160.0",
         "72.0",
         "2023/2/1",
         "自然受孕",
         "20230429",
         "1",
         "11w+6",
         "28.125",
         "5040534",
         "0.8067259",
         "0.0276035",
         "3845411",
         "0.3992619",
         "0.782096634",
         "-2.321211659",
         "-1.026002604",
         "-0.062103083",
         "-1.035610255",
         "0.02593584",
         "0.038061019",
         "0.377068639",
         "0.389803052",
         "0.399399221",
         "0.027483794",
         null,
         "1",
         "0",
         "是"
        ],
        [
         "1",
         "2",
         "A001",
         "31",
         "160.0",
         "73.0",
         "2023/2/1",
         "自然受孕",
         "20230531",
         "2",
         "15w+6",
         "28.515625",
         "3198810",
         "0.8063927",
         "0.02827083",
         "2457402",
         "0.3932988",
         "0.692855699",
         "1.168520758",
         "-2.595098987",
         "0.582182673",
         "-0.363518671",
         "0.034886856",
         "0.059572251",
         "0.3715415",
         "0.384770662",
         "0.391706139",
         "0.01961667",
         null,
         "1",
         "0",
         "是"
        ],
        [
         "2",
         "3",
         "A001",
         "31",
         "160.0",
         "73.0",
         "2023/2/1",
         "自然受孕",
         "20230625",
         "3",
         "20w+1",
         "28.515625",
         "3848846",
         "0.8038578",
         "0.03259621",
         "2926292",
         "0.3998897",
         "-0.888701998",
         "-1.01823645",
         "-1.308661706",
         "-0.342563969",
         "-0.734502556",
         "0.066171003",
         "0.075994548",
         "0.377449453",
         "0.390582472",
         "0.399479687",
         "0.022312402",
         null,
         "1",
         "0",
         "是"
        ],
        [
         "3",
         "4",
         "A001",
         "31",
         "160.0",
         "74.0",
         "2023/2/1",
         "自然受孕",
         "20230716",
         "4",
         "22w+6",
         "28.90625",
         "5960269",
         "0.8025347",
         "0.0347616",
         "4509561",
         "0.3979775",
         "0.498030978",
         "0.770401229",
         "-1.476955143",
         "1.141241591",
         "0.476199842",
         "0.061191623",
         "0.052304751",
         "0.375613302",
         "0.389251351",
         "0.397211552",
         "0.023280157",
         null,
         "1",
         "0",
         "是"
        ],
        [
         "4",
         "5",
         "A002",
         "32",
         "149.0",
         "74.0",
         "2023/11/9",
         "自然受孕",
         "20240219",
         "1",
         "13w+6",
         "33.3318319",
         "4154302",
         "0.8050077",
         "0.02885505",
         "3169114",
         "0.40306",
         "-2.268038556",
         "-1.004014711",
         "0.863198247",
         "-0.441235167",
         "-0.889422117",
         "0.059230127",
         "0.059708123",
         "0.380259901",
         "0.393617839",
         "0.404868305",
         "0.024211528",
         null,
         "2",
         "1",
         "否"
        ]
       ],
       "shape": {
        "columns": 31,
        "rows": 5
       }
      },
      "text/html": [
       "<div>\n",
       "<style scoped>\n",
       "    .dataframe tbody tr th:only-of-type {\n",
       "        vertical-align: middle;\n",
       "    }\n",
       "\n",
       "    .dataframe tbody tr th {\n",
       "        vertical-align: top;\n",
       "    }\n",
       "\n",
       "    .dataframe thead th {\n",
       "        text-align: right;\n",
       "    }\n",
       "</style>\n",
       "<table border=\"1\" class=\"dataframe\">\n",
       "  <thead>\n",
       "    <tr style=\"text-align: right;\">\n",
       "      <th></th>\n",
       "      <th>序号</th>\n",
       "      <th>孕妇代码</th>\n",
       "      <th>年龄</th>\n",
       "      <th>身高</th>\n",
       "      <th>体重</th>\n",
       "      <th>末次月经</th>\n",
       "      <th>IVF妊娠</th>\n",
       "      <th>检测日期</th>\n",
       "      <th>检测抽血次数</th>\n",
       "      <th>检测孕周</th>\n",
       "      <th>...</th>\n",
       "      <th>Y染色体浓度</th>\n",
       "      <th>X染色体浓度</th>\n",
       "      <th>13号染色体的GC含量</th>\n",
       "      <th>18号染色体的GC含量</th>\n",
       "      <th>21号染色体的GC含量</th>\n",
       "      <th>被过滤掉读段数的比例</th>\n",
       "      <th>染色体的非整倍体</th>\n",
       "      <th>怀孕次数</th>\n",
       "      <th>生产次数</th>\n",
       "      <th>胎儿是否健康</th>\n",
       "    </tr>\n",
       "  </thead>\n",
       "  <tbody>\n",
       "    <tr>\n",
       "      <th>0</th>\n",
       "      <td>1</td>\n",
       "      <td>A001</td>\n",
       "      <td>31</td>\n",
       "      <td>160.0</td>\n",
       "      <td>72.0</td>\n",
       "      <td>2023/2/1</td>\n",
       "      <td>自然受孕</td>\n",
       "      <td>20230429</td>\n",
       "      <td>1</td>\n",
       "      <td>11w+6</td>\n",
       "      <td>...</td>\n",
       "      <td>0.025936</td>\n",
       "      <td>0.038061</td>\n",
       "      <td>0.377069</td>\n",
       "      <td>0.389803</td>\n",
       "      <td>0.399399</td>\n",
       "      <td>0.027484</td>\n",
       "      <td>NaN</td>\n",
       "      <td>1</td>\n",
       "      <td>0</td>\n",
       "      <td>是</td>\n",
       "    </tr>\n",
       "    <tr>\n",
       "      <th>1</th>\n",
       "      <td>2</td>\n",
       "      <td>A001</td>\n",
       "      <td>31</td>\n",
       "      <td>160.0</td>\n",
       "      <td>73.0</td>\n",
       "      <td>2023/2/1</td>\n",
       "      <td>自然受孕</td>\n",
       "      <td>20230531</td>\n",
       "      <td>2</td>\n",
       "      <td>15w+6</td>\n",
       "      <td>...</td>\n",
       "      <td>0.034887</td>\n",
       "      <td>0.059572</td>\n",
       "      <td>0.371542</td>\n",
       "      <td>0.384771</td>\n",
       "      <td>0.391706</td>\n",
       "      <td>0.019617</td>\n",
       "      <td>NaN</td>\n",
       "      <td>1</td>\n",
       "      <td>0</td>\n",
       "      <td>是</td>\n",
       "    </tr>\n",
       "    <tr>\n",
       "      <th>2</th>\n",
       "      <td>3</td>\n",
       "      <td>A001</td>\n",
       "      <td>31</td>\n",
       "      <td>160.0</td>\n",
       "      <td>73.0</td>\n",
       "      <td>2023/2/1</td>\n",
       "      <td>自然受孕</td>\n",
       "      <td>20230625</td>\n",
       "      <td>3</td>\n",
       "      <td>20w+1</td>\n",
       "      <td>...</td>\n",
       "      <td>0.066171</td>\n",
       "      <td>0.075995</td>\n",
       "      <td>0.377449</td>\n",
       "      <td>0.390582</td>\n",
       "      <td>0.399480</td>\n",
       "      <td>0.022312</td>\n",
       "      <td>NaN</td>\n",
       "      <td>1</td>\n",
       "      <td>0</td>\n",
       "      <td>是</td>\n",
       "    </tr>\n",
       "    <tr>\n",
       "      <th>3</th>\n",
       "      <td>4</td>\n",
       "      <td>A001</td>\n",
       "      <td>31</td>\n",
       "      <td>160.0</td>\n",
       "      <td>74.0</td>\n",
       "      <td>2023/2/1</td>\n",
       "      <td>自然受孕</td>\n",
       "      <td>20230716</td>\n",
       "      <td>4</td>\n",
       "      <td>22w+6</td>\n",
       "      <td>...</td>\n",
       "      <td>0.061192</td>\n",
       "      <td>0.052305</td>\n",
       "      <td>0.375613</td>\n",
       "      <td>0.389251</td>\n",
       "      <td>0.397212</td>\n",
       "      <td>0.023280</td>\n",
       "      <td>NaN</td>\n",
       "      <td>1</td>\n",
       "      <td>0</td>\n",
       "      <td>是</td>\n",
       "    </tr>\n",
       "    <tr>\n",
       "      <th>4</th>\n",
       "      <td>5</td>\n",
       "      <td>A002</td>\n",
       "      <td>32</td>\n",
       "      <td>149.0</td>\n",
       "      <td>74.0</td>\n",
       "      <td>2023/11/9</td>\n",
       "      <td>自然受孕</td>\n",
       "      <td>20240219</td>\n",
       "      <td>1</td>\n",
       "      <td>13w+6</td>\n",
       "      <td>...</td>\n",
       "      <td>0.059230</td>\n",
       "      <td>0.059708</td>\n",
       "      <td>0.380260</td>\n",
       "      <td>0.393618</td>\n",
       "      <td>0.404868</td>\n",
       "      <td>0.024212</td>\n",
       "      <td>NaN</td>\n",
       "      <td>2</td>\n",
       "      <td>1</td>\n",
       "      <td>否</td>\n",
       "    </tr>\n",
       "  </tbody>\n",
       "</table>\n",
       "<p>5 rows × 31 columns</p>\n",
       "</div>"
      ],
      "text/plain": [
       "   序号  孕妇代码  年龄     身高    体重       末次月经 IVF妊娠      检测日期  检测抽血次数   检测孕周  ...  \\\n",
       "0   1  A001  31  160.0  72.0   2023/2/1  自然受孕  20230429       1  11w+6  ...   \n",
       "1   2  A001  31  160.0  73.0   2023/2/1  自然受孕  20230531       2  15w+6  ...   \n",
       "2   3  A001  31  160.0  73.0   2023/2/1  自然受孕  20230625       3  20w+1  ...   \n",
       "3   4  A001  31  160.0  74.0   2023/2/1  自然受孕  20230716       4  22w+6  ...   \n",
       "4   5  A002  32  149.0  74.0  2023/11/9  自然受孕  20240219       1  13w+6  ...   \n",
       "\n",
       "     Y染色体浓度    X染色体浓度  13号染色体的GC含量  18号染色体的GC含量  21号染色体的GC含量  被过滤掉读段数的比例  \\\n",
       "0  0.025936  0.038061     0.377069     0.389803     0.399399    0.027484   \n",
       "1  0.034887  0.059572     0.371542     0.384771     0.391706    0.019617   \n",
       "2  0.066171  0.075995     0.377449     0.390582     0.399480    0.022312   \n",
       "3  0.061192  0.052305     0.375613     0.389251     0.397212    0.023280   \n",
       "4  0.059230  0.059708     0.380260     0.393618     0.404868    0.024212   \n",
       "\n",
       "   染色体的非整倍体  怀孕次数  生产次数  胎儿是否健康  \n",
       "0       NaN     1     0       是  \n",
       "1       NaN     1     0       是  \n",
       "2       NaN     1     0       是  \n",
       "3       NaN     1     0       是  \n",
       "4       NaN     2     1       否  \n",
       "\n",
       "[5 rows x 31 columns]"
      ]
     },
     "execution_count": 102,
     "metadata": {},
     "output_type": "execute_result"
    }
   ],
   "source": [
    "男胎检测数据=pd.read_csv('男胎检测数据.csv')\n",
    "男胎检测数据.head()"
   ]
  },
  {
   "cell_type": "code",
   "execution_count": 103,
   "id": "8b35e902",
   "metadata": {},
   "outputs": [
    {
     "name": "stdout",
     "output_type": "stream",
     "text": [
      "count           1070\n",
      "unique           190\n",
      "top       2022-12-28\n",
      "freq              32\n",
      "Name: 末次月经, dtype: object\n"
     ]
    }
   ],
   "source": [
    "print(男胎检测数据.末次月经.describe())"
   ]
  },
  {
   "cell_type": "code",
   "execution_count": 104,
   "id": "b0247aad",
   "metadata": {},
   "outputs": [
    {
     "data": {
      "application/vnd.microsoft.datawrangler.viewer.v0+json": {
       "columns": [
        {
         "name": "index",
         "rawType": "int64",
         "type": "integer"
        },
        {
         "name": "末次月经",
         "rawType": "datetime64[ns]",
         "type": "datetime"
        },
        {
         "name": "检测日期",
         "rawType": "datetime64[ns]",
         "type": "datetime"
        }
       ],
       "ref": "1e3a6648-af85-4432-ac7a-73017ecfbc1f",
       "rows": [
        [
         "0",
         "2023-02-01 00:00:00",
         "2023-04-29 00:00:00"
        ],
        [
         "1",
         "2023-02-01 00:00:00",
         "2023-05-31 00:00:00"
        ],
        [
         "2",
         "2023-02-01 00:00:00",
         "2023-06-25 00:00:00"
        ],
        [
         "3",
         "2023-02-01 00:00:00",
         "2023-07-16 00:00:00"
        ],
        [
         "4",
         "2023-11-09 00:00:00",
         "2024-02-19 00:00:00"
        ]
       ],
       "shape": {
        "columns": 2,
        "rows": 5
       }
      },
      "text/html": [
       "<div>\n",
       "<style scoped>\n",
       "    .dataframe tbody tr th:only-of-type {\n",
       "        vertical-align: middle;\n",
       "    }\n",
       "\n",
       "    .dataframe tbody tr th {\n",
       "        vertical-align: top;\n",
       "    }\n",
       "\n",
       "    .dataframe thead th {\n",
       "        text-align: right;\n",
       "    }\n",
       "</style>\n",
       "<table border=\"1\" class=\"dataframe\">\n",
       "  <thead>\n",
       "    <tr style=\"text-align: right;\">\n",
       "      <th></th>\n",
       "      <th>末次月经</th>\n",
       "      <th>检测日期</th>\n",
       "    </tr>\n",
       "  </thead>\n",
       "  <tbody>\n",
       "    <tr>\n",
       "      <th>0</th>\n",
       "      <td>2023-02-01</td>\n",
       "      <td>2023-04-29</td>\n",
       "    </tr>\n",
       "    <tr>\n",
       "      <th>1</th>\n",
       "      <td>2023-02-01</td>\n",
       "      <td>2023-05-31</td>\n",
       "    </tr>\n",
       "    <tr>\n",
       "      <th>2</th>\n",
       "      <td>2023-02-01</td>\n",
       "      <td>2023-06-25</td>\n",
       "    </tr>\n",
       "    <tr>\n",
       "      <th>3</th>\n",
       "      <td>2023-02-01</td>\n",
       "      <td>2023-07-16</td>\n",
       "    </tr>\n",
       "    <tr>\n",
       "      <th>4</th>\n",
       "      <td>2023-11-09</td>\n",
       "      <td>2024-02-19</td>\n",
       "    </tr>\n",
       "  </tbody>\n",
       "</table>\n",
       "</div>"
      ],
      "text/plain": [
       "        末次月经       检测日期\n",
       "0 2023-02-01 2023-04-29\n",
       "1 2023-02-01 2023-05-31\n",
       "2 2023-02-01 2023-06-25\n",
       "3 2023-02-01 2023-07-16\n",
       "4 2023-11-09 2024-02-19"
      ]
     },
     "execution_count": 104,
     "metadata": {},
     "output_type": "execute_result"
    }
   ],
   "source": [
    "# 将['末次月经', '检测日期']转为datetime类型\n",
    "男胎检测数据['末次月经'] = pd.to_datetime(男胎检测数据['末次月经'], errors='coerce')\n",
    "男胎检测数据['检测日期'] = pd.to_datetime(男胎检测数据['检测日期'].astype(str), format='%Y%m%d', errors='coerce')\n",
    "男胎检测数据[['末次月经', '检测日期']].apply(lambda col: col.dt.date)\n",
    "男胎检测数据[['末次月经', '检测日期']].head()\n"
   ]
  },
  {
   "cell_type": "code",
   "execution_count": 105,
   "id": "6e82738c",
   "metadata": {},
   "outputs": [
    {
     "data": {
      "application/vnd.microsoft.datawrangler.viewer.v0+json": {
       "columns": [
        {
         "name": "index",
         "rawType": "int64",
         "type": "integer"
        },
        {
         "name": "检测孕周",
         "rawType": "object",
         "type": "string"
        }
       ],
       "ref": "7457d501-bb78-48e9-ac34-f622a417ac54",
       "rows": [
        [
         "0",
         "11w+6"
        ],
        [
         "1",
         "15w+6"
        ],
        [
         "2",
         "20w+1"
        ],
        [
         "3",
         "22w+6"
        ],
        [
         "4",
         "13w+6"
        ],
        [
         "5",
         "16w+5"
        ],
        [
         "6",
         "19w+5"
        ],
        [
         "7",
         "23w+4"
        ],
        [
         "8",
         "23w+4"
        ],
        [
         "9",
         "13w"
        ],
        [
         "10",
         "13w"
        ],
        [
         "11",
         "13w"
        ],
        [
         "12",
         "16w+5"
        ],
        [
         "13",
         "20w+2"
        ],
        [
         "14",
         "23w+1"
        ],
        [
         "15",
         "11w"
        ],
        [
         "16",
         "15w+6"
        ],
        [
         "17",
         "19w+2"
        ],
        [
         "18",
         "23w+4"
        ],
        [
         "19",
         "12w+2"
        ],
        [
         "20",
         "15w+2"
        ],
        [
         "21",
         "20w+1"
        ],
        [
         "22",
         "23w+5"
        ],
        [
         "23",
         "12w+1"
        ],
        [
         "24",
         "16w+3"
        ],
        [
         "25",
         "20w+2"
        ],
        [
         "26",
         "24w+3"
        ],
        [
         "27",
         "12w+2"
        ],
        [
         "28",
         "16w"
        ],
        [
         "29",
         "20w+6"
        ],
        [
         "30",
         "23w+5"
        ],
        [
         "31",
         "23w+5"
        ],
        [
         "32",
         "13w"
        ],
        [
         "33",
         "16w"
        ],
        [
         "34",
         "20w+1"
        ],
        [
         "35",
         "23w"
        ],
        [
         "36",
         "13w+6"
        ],
        [
         "37",
         "17w+3"
        ],
        [
         "38",
         "21w+6"
        ],
        [
         "39",
         "23w+6"
        ],
        [
         "40",
         "13w+6"
        ],
        [
         "41",
         "16w+4"
        ],
        [
         "42",
         "20w+6"
        ],
        [
         "43",
         "20w+6"
        ],
        [
         "44",
         "20w+6"
        ],
        [
         "45",
         "24w+5"
        ],
        [
         "46",
         "24w+5"
        ],
        [
         "47",
         "11w+6"
        ],
        [
         "48",
         "16w+1"
        ],
        [
         "49",
         "20w+4"
        ]
       ],
       "shape": {
        "columns": 1,
        "rows": 1082
       }
      },
      "text/plain": [
       "0       11w+6\n",
       "1       15w+6\n",
       "2       20w+1\n",
       "3       22w+6\n",
       "4       13w+6\n",
       "        ...  \n",
       "1077    17w+5\n",
       "1078    11w+4\n",
       "1079    12w+4\n",
       "1080    13w+4\n",
       "1081    14w+4\n",
       "Name: 检测孕周, Length: 1082, dtype: object"
      ]
     },
     "execution_count": 105,
     "metadata": {},
     "output_type": "execute_result"
    }
   ],
   "source": [
    "孕周数据=男胎检测数据.检测孕周\n",
    "孕周数据"
   ]
  },
  {
   "cell_type": "code",
   "execution_count": 106,
   "id": "42700eae",
   "metadata": {},
   "outputs": [],
   "source": [
    "import re\n",
    "\n",
    "def convert_gestational_age(age_str):\n",
    "    if pd.isna(age_str):\n",
    "        return np.nan\n",
    "    match = re.match(r'(\\d+)w\\+?(\\d+)?', age_str)\n",
    "    if match:\n",
    "        weeks, days = match.groups()\n",
    "        return int(weeks) + (int(days) / 7 if days else 0)\n",
    "    else:\n",
    "        return np.nan  # 或处理无效格式\n",
    "\n",
    "孕周数据_数值 = 孕周数据.apply(convert_gestational_age)\n",
    "孕周数据_数值 = 孕周数据_数值.round(2)\n",
    "孕周数据_数值\n",
    "男胎检测数据['检测孕周']=孕周数据_数值"
   ]
  },
  {
   "cell_type": "code",
   "execution_count": 107,
   "id": "d00dbffa",
   "metadata": {},
   "outputs": [
    {
     "data": {
      "application/vnd.microsoft.datawrangler.viewer.v0+json": {
       "columns": [
        {
         "name": "index",
         "rawType": "int64",
         "type": "integer"
        },
        {
         "name": "检测孕周",
         "rawType": "float64",
         "type": "float"
        }
       ],
       "ref": "3efd7c17-77eb-4e7b-b880-f4afaa4b92c7",
       "rows": [
        [
         "0",
         "11.86"
        ],
        [
         "1",
         "15.86"
        ],
        [
         "2",
         "20.14"
        ],
        [
         "3",
         "22.86"
        ],
        [
         "4",
         "13.86"
        ],
        [
         "5",
         "16.71"
        ],
        [
         "6",
         "19.71"
        ],
        [
         "7",
         "23.57"
        ],
        [
         "8",
         "23.57"
        ],
        [
         "9",
         "13.0"
        ],
        [
         "10",
         "13.0"
        ],
        [
         "11",
         "13.0"
        ],
        [
         "12",
         "16.71"
        ],
        [
         "13",
         "20.29"
        ],
        [
         "14",
         "23.14"
        ],
        [
         "15",
         "11.0"
        ],
        [
         "16",
         "15.86"
        ],
        [
         "17",
         "19.29"
        ],
        [
         "18",
         "23.57"
        ],
        [
         "19",
         "12.29"
        ],
        [
         "20",
         "15.29"
        ],
        [
         "21",
         "20.14"
        ],
        [
         "22",
         "23.71"
        ],
        [
         "23",
         "12.14"
        ],
        [
         "24",
         "16.43"
        ],
        [
         "25",
         "20.29"
        ],
        [
         "26",
         "24.43"
        ],
        [
         "27",
         "12.29"
        ],
        [
         "28",
         "16.0"
        ],
        [
         "29",
         "20.86"
        ],
        [
         "30",
         "23.71"
        ],
        [
         "31",
         "23.71"
        ],
        [
         "32",
         "13.0"
        ],
        [
         "33",
         "16.0"
        ],
        [
         "34",
         "20.14"
        ],
        [
         "35",
         "23.0"
        ],
        [
         "36",
         "13.86"
        ],
        [
         "37",
         "17.43"
        ],
        [
         "38",
         "21.86"
        ],
        [
         "39",
         "23.86"
        ],
        [
         "40",
         "13.86"
        ],
        [
         "41",
         "16.57"
        ],
        [
         "42",
         "20.86"
        ],
        [
         "43",
         "20.86"
        ],
        [
         "44",
         "20.86"
        ],
        [
         "45",
         "24.71"
        ],
        [
         "46",
         "24.71"
        ],
        [
         "47",
         "11.86"
        ],
        [
         "48",
         "16.14"
        ],
        [
         "49",
         "20.57"
        ]
       ],
       "shape": {
        "columns": 1,
        "rows": 1082
       }
      },
      "text/plain": [
       "0       11.86\n",
       "1       15.86\n",
       "2       20.14\n",
       "3       22.86\n",
       "4       13.86\n",
       "        ...  \n",
       "1077    17.71\n",
       "1078    11.57\n",
       "1079    12.57\n",
       "1080    13.57\n",
       "1081    14.57\n",
       "Name: 检测孕周, Length: 1082, dtype: float64"
      ]
     },
     "execution_count": 107,
     "metadata": {},
     "output_type": "execute_result"
    }
   ],
   "source": [
    "男胎检测数据.检测孕周"
   ]
  },
  {
   "cell_type": "markdown",
   "id": "a767c82d",
   "metadata": {},
   "source": [
    "# 身体指标计算"
   ]
  },
  {
   "cell_type": "code",
   "execution_count": 108,
   "id": "1f36edf4",
   "metadata": {},
   "outputs": [
    {
     "name": "stdout",
     "output_type": "stream",
     "text": [
      "0\n"
     ]
    }
   ],
   "source": [
    "print(男胎检测数据.孕妇BMI.isna().sum())"
   ]
  },
  {
   "cell_type": "markdown",
   "id": "ca61cf35",
   "metadata": {},
   "source": [
    "# 缺失值与异常值"
   ]
  },
  {
   "cell_type": "code",
   "execution_count": 109,
   "id": "195a9f0e",
   "metadata": {},
   "outputs": [
    {
     "data": {
      "application/vnd.microsoft.datawrangler.viewer.v0+json": {
       "columns": [
        {
         "name": "index",
         "rawType": "int64",
         "type": "integer"
        },
        {
         "name": "序号",
         "rawType": "int64",
         "type": "integer"
        },
        {
         "name": "孕妇代码",
         "rawType": "object",
         "type": "string"
        },
        {
         "name": "年龄",
         "rawType": "int64",
         "type": "integer"
        },
        {
         "name": "身高",
         "rawType": "float64",
         "type": "float"
        },
        {
         "name": "体重",
         "rawType": "float64",
         "type": "float"
        },
        {
         "name": "末次月经",
         "rawType": "datetime64[ns]",
         "type": "datetime"
        },
        {
         "name": "IVF妊娠",
         "rawType": "object",
         "type": "string"
        },
        {
         "name": "检测日期",
         "rawType": "datetime64[ns]",
         "type": "datetime"
        },
        {
         "name": "检测抽血次数",
         "rawType": "int64",
         "type": "integer"
        },
        {
         "name": "检测孕周",
         "rawType": "float64",
         "type": "float"
        },
        {
         "name": "孕妇BMI",
         "rawType": "float64",
         "type": "float"
        },
        {
         "name": "原始读段数",
         "rawType": "int64",
         "type": "integer"
        },
        {
         "name": "在参考基因组上比对的比例",
         "rawType": "float64",
         "type": "float"
        },
        {
         "name": "重复读段的比例",
         "rawType": "float64",
         "type": "float"
        },
        {
         "name": "唯一比对的读段数  ",
         "rawType": "int64",
         "type": "integer"
        },
        {
         "name": "GC含量",
         "rawType": "float64",
         "type": "float"
        },
        {
         "name": "13号染色体的Z值",
         "rawType": "float64",
         "type": "float"
        },
        {
         "name": "18号染色体的Z值",
         "rawType": "float64",
         "type": "float"
        },
        {
         "name": "21号染色体的Z值",
         "rawType": "float64",
         "type": "float"
        },
        {
         "name": "X染色体的Z值",
         "rawType": "float64",
         "type": "float"
        },
        {
         "name": "Y染色体的Z值",
         "rawType": "float64",
         "type": "float"
        },
        {
         "name": "Y染色体浓度",
         "rawType": "float64",
         "type": "float"
        },
        {
         "name": "X染色体浓度",
         "rawType": "float64",
         "type": "float"
        },
        {
         "name": "13号染色体的GC含量",
         "rawType": "float64",
         "type": "float"
        },
        {
         "name": "18号染色体的GC含量",
         "rawType": "float64",
         "type": "float"
        },
        {
         "name": "21号染色体的GC含量",
         "rawType": "float64",
         "type": "float"
        },
        {
         "name": "被过滤掉读段数的比例",
         "rawType": "float64",
         "type": "float"
        },
        {
         "name": "染色体的非整倍体",
         "rawType": "object",
         "type": "string"
        },
        {
         "name": "怀孕次数",
         "rawType": "object",
         "type": "string"
        },
        {
         "name": "生产次数",
         "rawType": "int64",
         "type": "integer"
        },
        {
         "name": "胎儿是否健康",
         "rawType": "object",
         "type": "string"
        }
       ],
       "ref": "61362364-7617-4489-9560-152a71b07d8f",
       "rows": [],
       "shape": {
        "columns": 31,
        "rows": 0
       }
      },
      "text/html": [
       "<div>\n",
       "<style scoped>\n",
       "    .dataframe tbody tr th:only-of-type {\n",
       "        vertical-align: middle;\n",
       "    }\n",
       "\n",
       "    .dataframe tbody tr th {\n",
       "        vertical-align: top;\n",
       "    }\n",
       "\n",
       "    .dataframe thead th {\n",
       "        text-align: right;\n",
       "    }\n",
       "</style>\n",
       "<table border=\"1\" class=\"dataframe\">\n",
       "  <thead>\n",
       "    <tr style=\"text-align: right;\">\n",
       "      <th></th>\n",
       "      <th>序号</th>\n",
       "      <th>孕妇代码</th>\n",
       "      <th>年龄</th>\n",
       "      <th>身高</th>\n",
       "      <th>体重</th>\n",
       "      <th>末次月经</th>\n",
       "      <th>IVF妊娠</th>\n",
       "      <th>检测日期</th>\n",
       "      <th>检测抽血次数</th>\n",
       "      <th>检测孕周</th>\n",
       "      <th>...</th>\n",
       "      <th>Y染色体浓度</th>\n",
       "      <th>X染色体浓度</th>\n",
       "      <th>13号染色体的GC含量</th>\n",
       "      <th>18号染色体的GC含量</th>\n",
       "      <th>21号染色体的GC含量</th>\n",
       "      <th>被过滤掉读段数的比例</th>\n",
       "      <th>染色体的非整倍体</th>\n",
       "      <th>怀孕次数</th>\n",
       "      <th>生产次数</th>\n",
       "      <th>胎儿是否健康</th>\n",
       "    </tr>\n",
       "  </thead>\n",
       "  <tbody>\n",
       "  </tbody>\n",
       "</table>\n",
       "<p>0 rows × 31 columns</p>\n",
       "</div>"
      ],
      "text/plain": [
       "Empty DataFrame\n",
       "Columns: [序号, 孕妇代码, 年龄, 身高, 体重, 末次月经, IVF妊娠, 检测日期, 检测抽血次数, 检测孕周, 孕妇BMI, 原始读段数, 在参考基因组上比对的比例, 重复读段的比例, 唯一比对的读段数  , GC含量, 13号染色体的Z值, 18号染色体的Z值, 21号染色体的Z值, X染色体的Z值, Y染色体的Z值, Y染色体浓度, X染色体浓度, 13号染色体的GC含量, 18号染色体的GC含量, 21号染色体的GC含量, 被过滤掉读段数的比例, 染色体的非整倍体, 怀孕次数, 生产次数, 胎儿是否健康]\n",
       "Index: []\n",
       "\n",
       "[0 rows x 31 columns]"
      ]
     },
     "execution_count": 109,
     "metadata": {},
     "output_type": "execute_result"
    }
   ],
   "source": [
    "mask = 男胎检测数据[['Y染色体浓度','检测孕周','孕妇BMI']].isna().any(axis=1)\n",
    "男胎检测数据.loc[mask]"
   ]
  },
  {
   "cell_type": "code",
   "execution_count": 111,
   "id": "0fb5a9b3",
   "metadata": {},
   "outputs": [],
   "source": [
    "男胎检测数据.to_csv('男胎检测数据_预处理后.csv',index=False)"
   ]
  },
  {
   "cell_type": "code",
   "execution_count": null,
   "id": "d42873a6",
   "metadata": {},
   "outputs": [],
   "source": []
  }
 ],
 "metadata": {
  "kernelspec": {
   "display_name": "mcm",
   "language": "python",
   "name": "python3"
  },
  "language_info": {
   "codemirror_mode": {
    "name": "ipython",
    "version": 3
   },
   "file_extension": ".py",
   "mimetype": "text/x-python",
   "name": "python",
   "nbconvert_exporter": "python",
   "pygments_lexer": "ipython3",
   "version": "3.13.5"
  }
 },
 "nbformat": 4,
 "nbformat_minor": 5
}
